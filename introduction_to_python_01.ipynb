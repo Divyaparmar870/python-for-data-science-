{
  "nbformat": 4,
  "nbformat_minor": 0,
  "metadata": {
    "colab": {
      "name": "introduction to python 01.ipynb",
      "provenance": [],
      "authorship_tag": "ABX9TyMl9Ew35ExuCTpPvW4ZcIFW",
      "include_colab_link": true
    },
    "kernelspec": {
      "name": "python3",
      "display_name": "Python 3"
    }
  },
  "cells": [
    {
      "cell_type": "markdown",
      "metadata": {
        "id": "view-in-github",
        "colab_type": "text"
      },
      "source": [
        "<a href=\"https://colab.research.google.com/github/Divyaparmar870/python-for-data-science-/blob/master/introduction_to_python_01.ipynb\" target=\"_parent\"><img src=\"https://colab.research.google.com/assets/colab-badge.svg\" alt=\"Open In Colab\"/></a>"
      ]
    },
    {
      "cell_type": "code",
      "metadata": {
        "id": "Y1PvM1vwQcih",
        "colab_type": "code",
        "colab": {
          "base_uri": "https://localhost:8080/",
          "height": 128
        },
        "outputId": "63aba111-a526-4721-c0d6-50dc7495f9ac"
      },
      "source": [
        "my name is divya "
      ],
      "execution_count": 1,
      "outputs": [
        {
          "output_type": "error",
          "ename": "SyntaxError",
          "evalue": "ignored",
          "traceback": [
            "\u001b[0;36m  File \u001b[0;32m\"<ipython-input-1-c2c1f4868e3e>\"\u001b[0;36m, line \u001b[0;32m1\u001b[0m\n\u001b[0;31m    my name is divya\u001b[0m\n\u001b[0m          ^\u001b[0m\n\u001b[0;31mSyntaxError\u001b[0m\u001b[0;31m:\u001b[0m invalid syntax\n"
          ]
        }
      ]
    },
    {
      "cell_type": "code",
      "metadata": {
        "id": "SFwpgi7OQyS0",
        "colab_type": "code",
        "colab": {}
      },
      "source": [
        ""
      ],
      "execution_count": 0,
      "outputs": []
    },
    {
      "cell_type": "markdown",
      "metadata": {
        "id": "H6AZzDY4Q35s",
        "colab_type": "text"
      },
      "source": [
        "this is my firt jupter notebbok"
      ]
    },
    {
      "cell_type": "code",
      "metadata": {
        "id": "qEG5p3ATQ60e",
        "colab_type": "code",
        "colab": {}
      },
      "source": [
        ""
      ],
      "execution_count": 0,
      "outputs": []
    },
    {
      "cell_type": "code",
      "metadata": {
        "id": "ia2XWqZPQ8De",
        "colab_type": "code",
        "colab": {}
      },
      "source": [
        "name=\"divya \""
      ],
      "execution_count": 0,
      "outputs": []
    },
    {
      "cell_type": "code",
      "metadata": {
        "id": "FrnQNFc-Q-uZ",
        "colab_type": "code",
        "colab": {
          "base_uri": "https://localhost:8080/",
          "height": 34
        },
        "outputId": "5d1c6384-f999-49f1-928b-e56a2b21b055"
      },
      "source": [
        "name"
      ],
      "execution_count": 3,
      "outputs": [
        {
          "output_type": "execute_result",
          "data": {
            "text/plain": [
              "'divya '"
            ]
          },
          "metadata": {
            "tags": []
          },
          "execution_count": 3
        }
      ]
    },
    {
      "cell_type": "code",
      "metadata": {
        "id": "gf0czgGbQ_66",
        "colab_type": "code",
        "colab": {}
      },
      "source": [
        "#form of string \n"
      ],
      "execution_count": 0,
      "outputs": []
    },
    {
      "cell_type": "code",
      "metadata": {
        "id": "JQY3mG-WRDuh",
        "colab_type": "code",
        "colab": {}
      },
      "source": [
        "myself =\"divya\"\n",
        "#form of string "
      ],
      "execution_count": 0,
      "outputs": []
    },
    {
      "cell_type": "code",
      "metadata": {
        "id": "P9Vft2gGRSNk",
        "colab_type": "code",
        "colab": {
          "base_uri": "https://localhost:8080/",
          "height": 34
        },
        "outputId": "1e95b04d-c670-4ae1-f7db-b72d1271852b"
      },
      "source": [
        "myself"
      ],
      "execution_count": 5,
      "outputs": [
        {
          "output_type": "execute_result",
          "data": {
            "text/plain": [
              "'divya'"
            ]
          },
          "metadata": {
            "tags": []
          },
          "execution_count": 5
        }
      ]
    },
    {
      "cell_type": "code",
      "metadata": {
        "id": "tEeYK3RSRWPt",
        "colab_type": "code",
        "colab": {}
      },
      "source": [
        "#form of number \n",
        "age=20"
      ],
      "execution_count": 0,
      "outputs": []
    },
    {
      "cell_type": "code",
      "metadata": {
        "id": "EBwBU7uIRcTz",
        "colab_type": "code",
        "colab": {
          "base_uri": "https://localhost:8080/",
          "height": 34
        },
        "outputId": "8dac3f3a-1de7-4584-888e-89026925f10b"
      },
      "source": [
        "age"
      ],
      "execution_count": 7,
      "outputs": [
        {
          "output_type": "execute_result",
          "data": {
            "text/plain": [
              "20"
            ]
          },
          "metadata": {
            "tags": []
          },
          "execution_count": 7
        }
      ]
    },
    {
      "cell_type": "code",
      "metadata": {
        "id": "3kuZw2SyRd-C",
        "colab_type": "code",
        "colab": {
          "base_uri": "https://localhost:8080/",
          "height": 50
        },
        "outputId": "4a80107c-168a-4f9a-ef2f-3df180b5a8e6"
      },
      "source": [
        "#print multiple variables\n",
        "print(name)\n",
        "print(age)"
      ],
      "execution_count": 8,
      "outputs": [
        {
          "output_type": "stream",
          "text": [
            "divya \n",
            "20\n"
          ],
          "name": "stdout"
        }
      ]
    },
    {
      "cell_type": "code",
      "metadata": {
        "id": "GrBtH9r1Ta2C",
        "colab_type": "code",
        "colab": {}
      },
      "source": [
        "#boolean values "
      ],
      "execution_count": 0,
      "outputs": []
    },
    {
      "cell_type": "code",
      "metadata": {
        "id": "6_IXnIggTgYd",
        "colab_type": "code",
        "colab": {}
      },
      "source": [
        "#boolean values "
      ],
      "execution_count": 0,
      "outputs": []
    },
    {
      "cell_type": "code",
      "metadata": {
        "id": "xG1o5hUETpAz",
        "colab_type": "code",
        "colab": {}
      },
      "source": [
        "male=False"
      ],
      "execution_count": 0,
      "outputs": []
    },
    {
      "cell_type": "code",
      "metadata": {
        "id": "IgoJIcYITrhE",
        "colab_type": "code",
        "colab": {
          "base_uri": "https://localhost:8080/",
          "height": 34
        },
        "outputId": "92d3b595-7c5b-4849-9efe-26069355a4ee"
      },
      "source": [
        "male"
      ],
      "execution_count": 14,
      "outputs": [
        {
          "output_type": "execute_result",
          "data": {
            "text/plain": [
              "False"
            ]
          },
          "metadata": {
            "tags": []
          },
          "execution_count": 14
        }
      ]
    },
    {
      "cell_type": "code",
      "metadata": {
        "id": "JiL-PLskTss0",
        "colab_type": "code",
        "colab": {}
      },
      "source": [
        "#floating numbers \n",
        "percentage= 68.99"
      ],
      "execution_count": 0,
      "outputs": []
    },
    {
      "cell_type": "code",
      "metadata": {
        "id": "ItmIT0LmULah",
        "colab_type": "code",
        "colab": {
          "base_uri": "https://localhost:8080/",
          "height": 34
        },
        "outputId": "80c5cc03-a452-4438-c8cd-347243859253"
      },
      "source": [
        "percentage "
      ],
      "execution_count": 16,
      "outputs": [
        {
          "output_type": "execute_result",
          "data": {
            "text/plain": [
              "68.99"
            ]
          },
          "metadata": {
            "tags": []
          },
          "execution_count": 16
        }
      ]
    },
    {
      "cell_type": "code",
      "metadata": {
        "id": "bP7rA4H_UNrC",
        "colab_type": "code",
        "colab": {}
      },
      "source": [
        ""
      ],
      "execution_count": 0,
      "outputs": []
    },
    {
      "cell_type": "markdown",
      "metadata": {
        "id": "3-_MV_ZFUtTr",
        "colab_type": "text"
      },
      "source": [
        "list stores a group of values "
      ]
    },
    {
      "cell_type": "code",
      "metadata": {
        "id": "ibJQU6eFUykA",
        "colab_type": "code",
        "colab": {}
      },
      "source": [
        ""
      ],
      "execution_count": 0,
      "outputs": []
    },
    {
      "cell_type": "code",
      "metadata": {
        "id": "JPwxZ86RU2oY",
        "colab_type": "code",
        "colab": {}
      },
      "source": [
        "marks=[45.66,66,78,\"divya\" ,True ]"
      ],
      "execution_count": 0,
      "outputs": []
    },
    {
      "cell_type": "code",
      "metadata": {
        "id": "MwMFeWFvep4m",
        "colab_type": "code",
        "colab": {
          "base_uri": "https://localhost:8080/",
          "height": 34
        },
        "outputId": "1aa8d898-e735-4110-dc07-ffece437c85a"
      },
      "source": [
        "#print out the length of list of marks \n",
        "len(marks)"
      ],
      "execution_count": 46,
      "outputs": [
        {
          "output_type": "execute_result",
          "data": {
            "text/plain": [
              "5"
            ]
          },
          "metadata": {
            "tags": []
          },
          "execution_count": 46
        }
      ]
    },
    {
      "cell_type": "code",
      "metadata": {
        "id": "n7RJo1F8VFeo",
        "colab_type": "code",
        "colab": {
          "base_uri": "https://localhost:8080/",
          "height": 34
        },
        "outputId": "c877cc6a-e090-443a-f55e-4dea44bcde19"
      },
      "source": [
        "marks"
      ],
      "execution_count": 24,
      "outputs": [
        {
          "output_type": "execute_result",
          "data": {
            "text/plain": [
              "[45.66, 66, 78, 'divya', True]"
            ]
          },
          "metadata": {
            "tags": []
          },
          "execution_count": 24
        }
      ]
    },
    {
      "cell_type": "code",
      "metadata": {
        "id": "fkdu-O6_VGmR",
        "colab_type": "code",
        "colab": {
          "base_uri": "https://localhost:8080/",
          "height": 34
        },
        "outputId": "68cf0ab1-4a84-4203-a2bc-c46ae908347f"
      },
      "source": [
        "marks[3]"
      ],
      "execution_count": 25,
      "outputs": [
        {
          "output_type": "execute_result",
          "data": {
            "text/plain": [
              "'divya'"
            ]
          },
          "metadata": {
            "tags": []
          },
          "execution_count": 25
        }
      ]
    },
    {
      "cell_type": "code",
      "metadata": {
        "id": "RgW5n1rSWN-v",
        "colab_type": "code",
        "colab": {}
      },
      "source": [
        "education = {\"tenth\":77.7,\"diploma\":70,\"graduation\":70.9,\"name\": \"divya parmar\",\"male\":False}"
      ],
      "execution_count": 0,
      "outputs": []
    },
    {
      "cell_type": "code",
      "metadata": {
        "id": "-EIkhPHOXzTl",
        "colab_type": "code",
        "colab": {
          "base_uri": "https://localhost:8080/",
          "height": 101
        },
        "outputId": "54b69478-9145-4a6d-daf5-b82cb2da4822"
      },
      "source": [
        "education "
      ],
      "execution_count": 32,
      "outputs": [
        {
          "output_type": "execute_result",
          "data": {
            "text/plain": [
              "{'diploma': 70,\n",
              " 'graduation': 70.9,\n",
              " 'male': False,\n",
              " 'name': 'divya parmar',\n",
              " 'tenth': 77.7}"
            ]
          },
          "metadata": {
            "tags": []
          },
          "execution_count": 32
        }
      ]
    },
    {
      "cell_type": "code",
      "metadata": {
        "id": "5cnCgj5KYS9r",
        "colab_type": "code",
        "colab": {
          "base_uri": "https://localhost:8080/",
          "height": 34
        },
        "outputId": "6345a514-5b76-4347-efb4-01a8d220928b"
      },
      "source": [
        "#selecting from the dictionary(education)\n",
        "#print only your tenth grade\n",
        "\n",
        "education['tenth']\n"
      ],
      "execution_count": 33,
      "outputs": [
        {
          "output_type": "execute_result",
          "data": {
            "text/plain": [
              "77.7"
            ]
          },
          "metadata": {
            "tags": []
          },
          "execution_count": 33
        }
      ]
    },
    {
      "cell_type": "code",
      "metadata": {
        "id": "f2ocOv46Zsdg",
        "colab_type": "code",
        "colab": {
          "base_uri": "https://localhost:8080/",
          "height": 34
        },
        "outputId": "1afebdb1-ae62-437a-c5b0-358fa816e785"
      },
      "source": [
        "#print only keys\n",
        "\n",
        "education.keys()"
      ],
      "execution_count": 34,
      "outputs": [
        {
          "output_type": "execute_result",
          "data": {
            "text/plain": [
              "dict_keys(['tenth', 'diploma', 'graduation', 'name', 'male'])"
            ]
          },
          "metadata": {
            "tags": []
          },
          "execution_count": 34
        }
      ]
    },
    {
      "cell_type": "code",
      "metadata": {
        "id": "RUB5HZInZ7UX",
        "colab_type": "code",
        "colab": {
          "base_uri": "https://localhost:8080/",
          "height": 34
        },
        "outputId": "4f2c6795-e561-4ceb-9f89-2b5852217677"
      },
      "source": [
        "#to print only values \n",
        "\n",
        "education.values()"
      ],
      "execution_count": 36,
      "outputs": [
        {
          "output_type": "execute_result",
          "data": {
            "text/plain": [
              "dict_values([77.7, 70, 70.9, 'divya parmar', False])"
            ]
          },
          "metadata": {
            "tags": []
          },
          "execution_count": 36
        }
      ]
    },
    {
      "cell_type": "code",
      "metadata": {
        "id": "lfswj3RtaWa4",
        "colab_type": "code",
        "colab": {}
      },
      "source": [
        "#male dictionary with containing a list of marks of 3 students \n",
        "\n",
        "students = {'st1':[1,2,3],\n",
        "           'st2':[4,5,6],\n",
        "           'st3':[9,8,0]}"
      ],
      "execution_count": 0,
      "outputs": []
    },
    {
      "cell_type": "code",
      "metadata": {
        "id": "7N0O0G_LcxsN",
        "colab_type": "code",
        "colab": {
          "base_uri": "https://localhost:8080/",
          "height": 34
        },
        "outputId": "307e620d-4ce9-403c-9008-e789b21e40c4"
      },
      "source": [
        "#print the marks of student 2 (only graduation score)\n",
        "students['st2'][-1]"
      ],
      "execution_count": 45,
      "outputs": [
        {
          "output_type": "execute_result",
          "data": {
            "text/plain": [
              "6"
            ]
          },
          "metadata": {
            "tags": []
          },
          "execution_count": 45
        }
      ]
    },
    {
      "cell_type": "code",
      "metadata": {
        "id": "sYKcjGIobWgC",
        "colab_type": "code",
        "colab": {}
      },
      "source": [
        "#make a list containing a dictionary or multiple dictionary \n",
        "\n",
        "friends= [{'name':\"divya\" ,'age':20},{'name':\"abc\",'age':24}]"
      ],
      "execution_count": 0,
      "outputs": []
    },
    {
      "cell_type": "code",
      "metadata": {
        "id": "wXh9JlescXQX",
        "colab_type": "code",
        "colab": {
          "base_uri": "https://localhost:8080/",
          "height": 34
        },
        "outputId": "1559d71e-ef0a-4dd5-d3f5-a0ff76ea8755"
      },
      "source": [
        "#find out the type od data for variable friends\n",
        "\n",
        "type(marks)"
      ],
      "execution_count": 50,
      "outputs": [
        {
          "output_type": "execute_result",
          "data": {
            "text/plain": [
              "list"
            ]
          },
          "metadata": {
            "tags": []
          },
          "execution_count": 50
        }
      ]
    },
    {
      "cell_type": "code",
      "metadata": {
        "id": "0ZJKw9qtgDvN",
        "colab_type": "code",
        "colab": {}
      },
      "source": [
        "#creating a  new list of 3 friends,print it and add a fourth friend\n",
        "\n",
        "myfriends=[\"rishi\",\"mukesh\",\"suresh\"]"
      ],
      "execution_count": 0,
      "outputs": []
    },
    {
      "cell_type": "code",
      "metadata": {
        "id": "R6-Z9dmZi0CZ",
        "colab_type": "code",
        "colab": {
          "base_uri": "https://localhost:8080/",
          "height": 34
        },
        "outputId": "33180def-c626-4cee-ce66-ff5212d79da7"
      },
      "source": [
        "myfriends"
      ],
      "execution_count": 58,
      "outputs": [
        {
          "output_type": "execute_result",
          "data": {
            "text/plain": [
              "['rishi', 'mukesh', 'suresh']"
            ]
          },
          "metadata": {
            "tags": []
          },
          "execution_count": 58
        }
      ]
    },
    {
      "cell_type": "code",
      "metadata": {
        "id": "QXqJMxr3i2gF",
        "colab_type": "code",
        "colab": {}
      },
      "source": [
        "myfriends.append('doll')"
      ],
      "execution_count": 0,
      "outputs": []
    },
    {
      "cell_type": "code",
      "metadata": {
        "id": "Q9ueNT9KjMX1",
        "colab_type": "code",
        "colab": {
          "base_uri": "https://localhost:8080/",
          "height": 34
        },
        "outputId": "5e376d61-1a70-4f14-fd94-62d42561dcce"
      },
      "source": [
        "myfriends"
      ],
      "execution_count": 60,
      "outputs": [
        {
          "output_type": "execute_result",
          "data": {
            "text/plain": [
              "['rishi', 'mukesh', 'suresh', 'doll']"
            ]
          },
          "metadata": {
            "tags": []
          },
          "execution_count": 60
        }
      ]
    },
    {
      "cell_type": "code",
      "metadata": {
        "id": "fA_zP2oFjjBG",
        "colab_type": "code",
        "colab": {}
      },
      "source": [
        "myfriends[0]=\"nidhi\""
      ],
      "execution_count": 0,
      "outputs": []
    },
    {
      "cell_type": "code",
      "metadata": {
        "id": "ksH5kUWPku--",
        "colab_type": "code",
        "colab": {
          "base_uri": "https://localhost:8080/",
          "height": 34
        },
        "outputId": "b28c0d4a-1e16-4c33-f3ff-d36e19415b1e"
      },
      "source": [
        "myfriends"
      ],
      "execution_count": 62,
      "outputs": [
        {
          "output_type": "execute_result",
          "data": {
            "text/plain": [
              "['nidhi', 'mukesh', 'suresh', 'doll']"
            ]
          },
          "metadata": {
            "tags": []
          },
          "execution_count": 62
        }
      ]
    },
    {
      "cell_type": "code",
      "metadata": {
        "id": "HrFJFhukk7OC",
        "colab_type": "code",
        "colab": {}
      },
      "source": [
        ""
      ],
      "execution_count": 0,
      "outputs": []
    }
  ]
}